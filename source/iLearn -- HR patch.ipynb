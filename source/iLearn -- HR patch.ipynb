{
 "cells": [
  {
   "cell_type": "code",
   "execution_count": null,
   "metadata": {},
   "outputs": [],
   "source": [
    "import javabridge\n",
    "import bioformats\n",
    "\n",
    "import bioformats\n",
    "import pandas as pd\n",
    "import numpy as np\n",
    "import matplotlib.pyplot as plt\n",
    "import scipy as sp\n",
    "import scipy.io\n"
   ]
  },
  {
   "cell_type": "code",
   "execution_count": null,
   "metadata": {},
   "outputs": [],
   "source": [
    "# Bioformats initialization\n",
    "javabridge.start_vm(class_path=bioformats.JARS)"
   ]
  },
  {
   "cell_type": "code",
   "execution_count": null,
   "metadata": {},
   "outputs": [],
   "source": [
    "image_channels = bioformats.load_image(\"42749_14385.im3\") \n",
    "image_channels_test = image_channels\n",
    "image_channels_cut = np.zeros((425,298,35))\n",
    "for i in range(35):\n",
    "    image_channels_test[:,:,i] = image_channels[:,:,i]/np.max(image_channels[:,:,i])*255\n",
    "    image_channels_cut[:,:,i] = image_channels_test[310:735, 1050:1400,i]\n",
    "print('Image size is ', image_channels_cut.shape)"
   ]
  },
  {
   "cell_type": "code",
   "execution_count": null,
   "metadata": {},
   "outputs": [],
   "source": [
    "plt.figure(figsize=(25,32))\n",
    "\n",
    "for i in range(30):   \n",
    "    plt.subplot(7,5,i+1)\n",
    "    plt.imshow(image_channels_test[:,:,i])\n",
    "    plt.title(\"Image\" + str(i))\n",
    "    plt.axis('off')\n",
    "plt.show()"
   ]
  },
  {
   "cell_type": "code",
   "execution_count": null,
   "metadata": {},
   "outputs": [],
   "source": [
    "Phenotypes_raw  = pd.read_csv('42749_14385.csv', delimiter='\\t')\n",
    "\n",
    "Phenotypes = Phenotypes_raw[pd.notnull(Phenotypes_raw['Phenotype'])]\n",
    "Phenotypes"
   ]
  },
  {
   "cell_type": "code",
   "execution_count": null,
   "metadata": {},
   "outputs": [],
   "source": [
    "labels_true = Phenotypes['Phenotype']\n",
    "\n",
    "Cell_X_pos   = np.array(Phenotypes['Cell X Position'])\n",
    "Cell_Y_pos   = np.array(Phenotypes['Cell Y Position'])\n",
    "print(Cell_Y_pos.shape)"
   ]
  },
  {
   "cell_type": "code",
   "execution_count": null,
   "metadata": {},
   "outputs": [],
   "source": []
  }
 ],
 "metadata": {
  "kernelspec": {
   "display_name": "Python 3",
   "language": "python",
   "name": "python3"
  },
  "language_info": {
   "codemirror_mode": {
    "name": "ipython",
    "version": 3
   },
   "file_extension": ".py",
   "mimetype": "text/x-python",
   "name": "python",
   "nbconvert_exporter": "python",
   "pygments_lexer": "ipython3",
   "version": "3.6.8"
  }
 },
 "nbformat": 4,
 "nbformat_minor": 2
}
